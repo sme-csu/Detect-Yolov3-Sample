{
  "cells": [
    {
      "cell_type": "code",
      "source": [
        "# Check core SDK version number\r\n",
        "import azureml.core\r\n",
        "\r\n",
        "print(\"SDK version:\", azureml.core.VERSION)"
      ],
      "outputs": [],
      "execution_count": null,
      "metadata": {
        "gather": {
          "logged": 1609163135551
        }
      }
    },
    {
      "cell_type": "code",
      "source": [
        "from azureml.telemetry import set_diagnostics_collection\r\n",
        "\r\n",
        "set_diagnostics_collection(send_diagnostics=True)"
      ],
      "outputs": [],
      "execution_count": null,
      "metadata": {
        "collapsed": true,
        "jupyter": {
          "source_hidden": false,
          "outputs_hidden": false
        },
        "nteract": {
          "transient": {
            "deleting": false
          }
        },
        "gather": {
          "logged": 1609163137299
        }
      }
    },
    {
      "cell_type": "code",
      "source": [
        "from azureml.core.workspace import Workspace\r\n",
        "\r\n",
        "ws = Workspace.from_config()\r\n",
        "print('Workspace name: ' + ws.name, \r\n",
        "      'Azure region: ' + ws.location, \r\n",
        "      'Subscription id: ' + ws.subscription_id, \r\n",
        "      'Resource group: ' + ws.resource_group, sep='\\n')"
      ],
      "outputs": [],
      "execution_count": null,
      "metadata": {
        "collapsed": true,
        "jupyter": {
          "source_hidden": false,
          "outputs_hidden": false
        },
        "nteract": {
          "transient": {
            "deleting": false
          }
        },
        "gather": {
          "logged": 1609163141409
        }
      }
    },
    {
      "cell_type": "code",
      "source": [
        "from azureml.core import Dataset\r\n",
        "# Get a dataset by name and version number\r\n",
        "anji_data_ds = Dataset.get_by_name(workspace = ws,\r\n",
        "                                 name = 'anji_data', \r\n",
        "                                 version = 1)"
      ],
      "outputs": [],
      "execution_count": null,
      "metadata": {
        "collapsed": true,
        "jupyter": {
          "source_hidden": false,
          "outputs_hidden": false
        },
        "nteract": {
          "transient": {
            "deleting": false
          }
        },
        "gather": {
          "logged": 1609143360541
        }
      }
    },
    {
      "cell_type": "code",
      "source": [
        "from azureml.core.compute import ComputeTarget, AmlCompute\r\n",
        "from azureml.core.compute_target import ComputeTargetException\r\n",
        "\r\n",
        "# choose a name for your cluster\r\n",
        "cluster_name = \"GPUsCluster\"\r\n",
        "\r\n",
        "compute_target = ComputeTarget(workspace=ws, name=cluster_name)\r\n",
        "\r\n",
        "# use get_status() to get a detailed status for the current cluster. \r\n",
        "print(compute_target.get_status().serialize())"
      ],
      "outputs": [],
      "execution_count": null,
      "metadata": {
        "collapsed": true,
        "jupyter": {
          "source_hidden": false,
          "outputs_hidden": false
        },
        "nteract": {
          "transient": {
            "deleting": false
          }
        },
        "gather": {
          "logged": 1607817303684
        }
      }
    },
    {
      "cell_type": "code",
      "source": [
        "from azureml.core import Experiment\r\n",
        "\r\n",
        "experiment_name = 'exp-yolov3-poc'\r\n",
        "experiment = Experiment(ws, name=experiment_name)"
      ],
      "outputs": [],
      "execution_count": null,
      "metadata": {
        "collapsed": true,
        "jupyter": {
          "source_hidden": false,
          "outputs_hidden": false
        },
        "nteract": {
          "transient": {
            "deleting": false
          }
        },
        "gather": {
          "logged": 1609143427349
        }
      }
    },
    {
      "cell_type": "code",
      "source": [
        "from azureml.core import Environment\r\n",
        "\r\n",
        "pytorch_env = Environment.from_conda_specification(name = 'pytorch-1.6-gpu', file_path = './conda_dependencies.yml')\r\n",
        "\r\n",
        "# Specify a GPU base image\r\n",
        "#pytorch_env.docker.enabled = True\r\n",
        "#pytorch_env.docker.base_image = 'mcr.microsoft.com/azureml/openmpi3.1.2-cuda10.1-cudnn7-ubuntu18.04'\r\n",
        "\r\n",
        "#dockerfile = \"\"\"\r\n",
        "#FROM mcr.microsoft.com/azureml/openmpi3.1.2-cuda10.1-cudnn7-ubuntu18.04\r\n",
        "#RUN apt update\r\n",
        "#RUN apt-get -y install sudo\r\n",
        "#RUN sudo apt -y install libgl1-mesa-glx\r\n",
        "#\"\"\"\r\n",
        "#pytorch_env.docker.enabled = True\r\n",
        "#pytorch_env.docker.base_image = None\r\n",
        "#pytorch_env.docker.base_dockerfile = dockerfile"
      ],
      "outputs": [],
      "execution_count": null,
      "metadata": {
        "collapsed": true,
        "jupyter": {
          "source_hidden": false,
          "outputs_hidden": false
        },
        "nteract": {
          "transient": {
            "deleting": false
          }
        },
        "gather": {
          "logged": 1609143432450
        }
      }
    },
    {
      "cell_type": "code",
      "source": [
        "from azureml.core import ScriptRunConfig\r\n",
        "\r\n",
        "project_folder = '.'\r\n",
        "\r\n",
        "src = ScriptRunConfig(source_directory=project_folder,\r\n",
        "                      script='pytorch_train.py',\r\n",
        "                      #arguments=['--num_epochs', 30, '--output_dir', './outputs'],\r\n",
        "                      arguments=['--epochs', 2,'--data-folder', anji_data_ds.as_mount('/tmp/tmp_anjidata')],\r\n",
        "                      #compute_target=compute_target,\r\n",
        "                      environment=pytorch_env)"
      ],
      "outputs": [],
      "execution_count": null,
      "metadata": {
        "collapsed": true,
        "jupyter": {
          "source_hidden": false,
          "outputs_hidden": false
        },
        "nteract": {
          "transient": {
            "deleting": false
          }
        },
        "gather": {
          "logged": 1609143597097
        }
      }
    },
    {
      "cell_type": "code",
      "source": [
        "run = experiment.submit(src,tags={\"purpose\":\"test metrix logging\"})\r\n",
        "print(run)"
      ],
      "outputs": [],
      "execution_count": null,
      "metadata": {
        "collapsed": true,
        "jupyter": {
          "source_hidden": false,
          "outputs_hidden": false
        },
        "nteract": {
          "transient": {
            "deleting": false
          }
        },
        "gather": {
          "logged": 1609146007049
        }
      }
    },
    {
      "cell_type": "code",
      "source": [
        "run.wait_for_completion(show_output=True)"
      ],
      "outputs": [],
      "execution_count": null,
      "metadata": {
        "collapsed": true,
        "jupyter": {
          "source_hidden": false,
          "outputs_hidden": false
        },
        "nteract": {
          "transient": {
            "deleting": false
          }
        },
        "gather": {
          "logged": 1609146720532
        }
      }
    },
    {
      "cell_type": "code",
      "source": [
        "assert(run.get_status() == \"Completed\")"
      ],
      "outputs": [],
      "execution_count": null,
      "metadata": {
        "collapsed": true,
        "jupyter": {
          "source_hidden": false,
          "outputs_hidden": false
        },
        "nteract": {
          "transient": {
            "deleting": false
          }
        },
        "gather": {
          "logged": 1609146846519
        }
      }
    },
    {
      "cell_type": "code",
      "source": [
        "print(run.get_file_names())"
      ],
      "outputs": [],
      "execution_count": null,
      "metadata": {
        "collapsed": true,
        "jupyter": {
          "source_hidden": false,
          "outputs_hidden": false
        },
        "nteract": {
          "transient": {
            "deleting": false
          }
        },
        "gather": {
          "logged": 1609146878664
        }
      }
    },
    {
      "cell_type": "code",
      "source": [
        "from azureml.core import Run\r\n",
        "run = Run(experiment, 'exp-yolov3-poc_1608263349_9b92b559')"
      ],
      "outputs": [],
      "execution_count": null,
      "metadata": {
        "collapsed": true,
        "jupyter": {
          "source_hidden": false,
          "outputs_hidden": false
        },
        "nteract": {
          "transient": {
            "deleting": false
          }
        },
        "gather": {
          "logged": 1608658070994
        }
      }
    },
    {
      "cell_type": "code",
      "source": [
        "model = run.register_model(model_name = 'yolov3-poc-model', model_path = 'outputs/best.pt')\r\n",
        "print(model.name, model.id, model.version, sep = '\\t')"
      ],
      "outputs": [],
      "execution_count": null,
      "metadata": {
        "collapsed": true,
        "jupyter": {
          "source_hidden": false,
          "outputs_hidden": false
        },
        "nteract": {
          "transient": {
            "deleting": false
          }
        },
        "gather": {
          "logged": 1608658077890
        }
      }
    },
    {
      "cell_type": "code",
      "source": [
        "from azureml.core import Environment\r\n",
        "from azureml.core.webservice import AciWebservice\r\n",
        "from azureml.core.model import InferenceConfig\r\n",
        "from azureml.core.webservice import Webservice\r\n",
        "from azureml.core.model import Model\r\n",
        "\r\n",
        "model = Model(ws, 'yolov3-poc-model')\r\n",
        "\r\n",
        "pytorch_env = Environment.from_conda_specification(name = 'pytorch-1.6-gpu', file_path = './conda_dependencies.yml')\r\n",
        "dockerfile = \"\"\"\r\n",
        "FROM mcr.microsoft.com/azureml/openmpi3.1.2-cuda10.1-cudnn7-ubuntu18.04\r\n",
        "RUN apt update\r\n",
        "RUN apt-get -y install sudo\r\n",
        "RUN sudo apt -y install libgl1-mesa-glx\r\n",
        "\"\"\"\r\n",
        "pytorch_env.docker.enabled = True\r\n",
        "pytorch_env.docker.base_image = None\r\n",
        "pytorch_env.docker.base_dockerfile = dockerfile\r\n",
        "pytorch_env.inferencing_stack_version = 'latest'\r\n",
        "\r\n",
        "inference_config = InferenceConfig(\r\n",
        "        entry_script=\"pytorch_score.py\", \r\n",
        "        environment=pytorch_env,\r\n",
        "        source_directory = \"./\"\r\n",
        "        )\r\n",
        "\r\n",
        "aciconfig = AciWebservice.deploy_configuration(cpu_cores=2, \r\n",
        "                                               memory_gb=2, \r\n",
        "                                               tags={'framework':'pytorch'},\r\n",
        "                                               description='Learning with PyTorch')\r\n",
        "\r\n",
        "service = Model.deploy(workspace=ws, \r\n",
        "                           name='aci-yolov3-poc', \r\n",
        "                           models=[model], \r\n",
        "                           inference_config=inference_config, \r\n",
        "                           deployment_config=aciconfig)\r\n",
        "service.wait_for_deployment(True)\r\n",
        "print(service.state)"
      ],
      "outputs": [],
      "execution_count": null,
      "metadata": {
        "collapsed": true,
        "jupyter": {
          "source_hidden": false,
          "outputs_hidden": false
        },
        "nteract": {
          "transient": {
            "deleting": false
          }
        },
        "gather": {
          "logged": 1609148486482
        }
      }
    },
    {
      "cell_type": "code",
      "source": [
        "service.get_logs()"
      ],
      "outputs": [],
      "execution_count": null,
      "metadata": {
        "collapsed": true,
        "jupyter": {
          "source_hidden": false,
          "outputs_hidden": false
        },
        "nteract": {
          "transient": {
            "deleting": false
          }
        },
        "gather": {
          "logged": 1609148519271
        }
      }
    },
    {
      "cell_type": "code",
      "source": [
        "print(service.scoring_uri)"
      ],
      "outputs": [],
      "execution_count": null,
      "metadata": {
        "collapsed": true,
        "jupyter": {
          "source_hidden": false,
          "outputs_hidden": false
        },
        "nteract": {
          "transient": {
            "deleting": false
          }
        },
        "gather": {
          "logged": 1609148521933
        }
      }
    },
    {
      "cell_type": "code",
      "source": [
        "import json\r\n",
        "from PIL import Image\r\n",
        "import matplotlib.pyplot as plt\r\n",
        "\r\n",
        "%matplotlib inline\r\n",
        "plt.imshow(Image.open('testfiles/test-image-2.jpg'))"
      ],
      "outputs": [],
      "execution_count": null,
      "metadata": {
        "collapsed": true,
        "jupyter": {
          "source_hidden": false,
          "outputs_hidden": false
        },
        "nteract": {
          "transient": {
            "deleting": false
          }
        },
        "gather": {
          "logged": 1609148528429
        }
      }
    },
    {
      "cell_type": "code",
      "source": [
        "import requests\r\n",
        "from base64 import b64encode\r\n",
        "# send a random row from the test set to score\r\n",
        "with open('testfiles/test-image-1.jpg', 'rb') as jpg_file:\r\n",
        "    byte_content = jpg_file.read()\r\n",
        "    jpg_file.close()\r\n",
        "base64_bytes = b64encode(byte_content)\r\n",
        "base64_string = base64_bytes.decode()\r\n",
        "\r\n",
        "#input_data = \"{\\\"data\\\": \" + base64_string + \"}\"\r\n",
        "input_data=json.dumps({'data': base64_string})\r\n",
        "#print(input_data)\r\n",
        "headers = {'Content-Type':'application/json'}\r\n",
        "\r\n",
        "# for AKS deployment you'd need to the service key in the header as well\r\n",
        "# api_key = service.get_key()\r\n",
        "# headers = {'Content-Type':'application/json',  'Authorization':('Bearer '+ api_key)} \r\n",
        "\r\n",
        "resp = requests.post(service.scoring_uri, input_data, headers=headers)\r\n",
        "\r\n",
        "#print(resp.text)\r\n"
      ],
      "outputs": [],
      "execution_count": null,
      "metadata": {
        "collapsed": true,
        "jupyter": {
          "source_hidden": false,
          "outputs_hidden": false
        },
        "nteract": {
          "transient": {
            "deleting": false
          }
        },
        "gather": {
          "logged": 1609148537784
        }
      }
    },
    {
      "cell_type": "code",
      "source": [
        "print(resp.text)"
      ],
      "outputs": [],
      "execution_count": null,
      "metadata": {
        "collapsed": true,
        "jupyter": {
          "source_hidden": false,
          "outputs_hidden": false
        },
        "nteract": {
          "transient": {
            "deleting": false
          }
        },
        "gather": {
          "logged": 1608667918324
        }
      }
    },
    {
      "cell_type": "code",
      "source": [
        "\r\n",
        "max_len = len(resp.text) -1\r\n",
        "result = resp.text[1:max_len].replace(\"\\\\\",\"\")"
      ],
      "outputs": [],
      "execution_count": null,
      "metadata": {
        "collapsed": true,
        "jupyter": {
          "source_hidden": false,
          "outputs_hidden": false
        },
        "nteract": {
          "transient": {
            "deleting": false
          }
        },
        "gather": {
          "logged": 1609148551178
        }
      }
    },
    {
      "cell_type": "code",
      "source": [
        "import base64\r\n",
        "\r\n",
        "result_image = json.loads(result)[\"result_image\"]\r\n",
        "\r\n",
        "image_data = base64.b64decode(result_image)\r\n",
        "\r\n",
        "with open('testfiles/test-impage-1-detection.jpg', 'wb') as jpg_file:\r\n",
        "    jpg_file.write(image_data)\r\n",
        "\r\n",
        "%matplotlib inline\r\n",
        "plt.imshow(Image.open('testfiles/test-impage-1-detection.jpg'))"
      ],
      "outputs": [],
      "execution_count": null,
      "metadata": {
        "collapsed": true,
        "jupyter": {
          "source_hidden": false,
          "outputs_hidden": false
        },
        "nteract": {
          "transient": {
            "deleting": false
          }
        },
        "gather": {
          "logged": 1609148579090
        }
      }
    }
  ],
  "metadata": {
    "kernelspec": {
      "name": "python3-azureml",
      "language": "python",
      "display_name": "Python 3.6 - AzureML"
    },
    "language_info": {
      "name": "python",
      "version": "3.6.9",
      "mimetype": "text/x-python",
      "codemirror_mode": {
        "name": "ipython",
        "version": 3
      },
      "pygments_lexer": "ipython3",
      "nbconvert_exporter": "python",
      "file_extension": ".py"
    },
    "kernel_info": {
      "name": "python3-azureml"
    },
    "nteract": {
      "version": "nteract-front-end@1.0.0"
    }
  },
  "nbformat": 4,
  "nbformat_minor": 2
}